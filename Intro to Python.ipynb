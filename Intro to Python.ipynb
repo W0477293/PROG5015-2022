{
 "cells": [
  {
   "cell_type": "raw",
   "id": "672ee5a5-ba71-425a-ad10-664c5f777344",
   "metadata": {},
   "source": [
    "How to print \"Hellow World\" in Python."
   ]
  },
  {
   "cell_type": "code",
   "execution_count": 1,
   "id": "e2c83072-773c-486e-adae-a5f309374fcc",
   "metadata": {},
   "outputs": [
    {
     "name": "stdout",
     "output_type": "stream",
     "text": [
      "Hellow World\n"
     ]
    }
   ],
   "source": [
    "print(\"Hellow World\")"
   ]
  },
  {
   "cell_type": "markdown",
   "id": "098eb3fb-608b-40a1-8dda-ce7c44e524d3",
   "metadata": {},
   "source": []
  }
 ],
 "metadata": {
  "kernelspec": {
   "display_name": "Python 3 (ipykernel)",
   "language": "python",
   "name": "python3"
  },
  "language_info": {
   "codemirror_mode": {
    "name": "ipython",
    "version": 3
   },
   "file_extension": ".py",
   "mimetype": "text/x-python",
   "name": "python",
   "nbconvert_exporter": "python",
   "pygments_lexer": "ipython3",
   "version": "3.10.7"
  }
 },
 "nbformat": 4,
 "nbformat_minor": 5
}
